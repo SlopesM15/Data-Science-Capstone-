{
 "cells": [
  {
   "cell_type": "code",
   "execution_count": 1,
   "metadata": {},
   "outputs": [
    {
     "name": "stdout",
     "output_type": "stream",
     "text": [
      "Collecting package metadata (current_repodata.json): ...working... done\n",
      "Solving environment: ...working... done\n",
      "\n",
      "## Package Plan ##\n",
      "\n",
      "  environment location: C:\\Users\\slope\\Anaconda3\n",
      "\n",
      "  added / updated specs:\n",
      "    - geopy\n",
      "\n",
      "\n",
      "The following packages will be downloaded:\n",
      "\n",
      "    package                    |            build\n",
      "    ---------------------------|-----------------\n",
      "    geographiclib-1.50         |             py_0          34 KB  conda-forge\n",
      "    geopy-1.21.0               |             py_0          58 KB  conda-forge\n",
      "    ------------------------------------------------------------\n",
      "                                           Total:          92 KB\n",
      "\n",
      "The following NEW packages will be INSTALLED:\n",
      "\n",
      "  geographiclib      conda-forge/noarch::geographiclib-1.50-py_0\n",
      "  geopy              conda-forge/noarch::geopy-1.21.0-py_0\n",
      "\n",
      "\n",
      "\n",
      "Downloading and Extracting Packages\n",
      "\n",
      "geographiclib-1.50   | 34 KB     |            |   0% \n",
      "geographiclib-1.50   | 34 KB     | #########4 |  94% \n",
      "geographiclib-1.50   | 34 KB     | ########## | 100% \n",
      "\n",
      "geopy-1.21.0         | 58 KB     |            |   0% \n",
      "geopy-1.21.0         | 58 KB     | ########## | 100% \n",
      "Preparing transaction: ...working... done\n",
      "Verifying transaction: ...working... done\n",
      "Executing transaction: ...working... done\n",
      "Collecting package metadata (current_repodata.json): ...working... done\n",
      "Solving environment: ...working... failed with initial frozen solve. Retrying with flexible solve.\n",
      "Collecting package metadata (repodata.json): ...working... done\n",
      "Solving environment: ...working... done\n",
      "\n",
      "## Package Plan ##\n",
      "\n",
      "  environment location: C:\\Users\\slope\\Anaconda3\n",
      "\n",
      "  added / updated specs:\n",
      "    - folium=0.5.0\n",
      "\n",
      "\n",
      "The following packages will be downloaded:\n",
      "\n",
      "    package                    |            build\n",
      "    ---------------------------|-----------------\n",
      "    altair-4.1.0               |             py_1         614 KB  conda-forge\n",
      "    branca-0.4.0               |             py_0          26 KB  conda-forge\n",
      "    certifi-2019.11.28         |           py37_0         148 KB  conda-forge\n",
      "    folium-0.5.0               |             py_0          45 KB  conda-forge\n",
      "    vincent-0.4.4              |             py_1          28 KB  conda-forge\n",
      "    ------------------------------------------------------------\n",
      "                                           Total:         861 KB\n",
      "\n",
      "The following NEW packages will be INSTALLED:\n",
      "\n",
      "  altair             conda-forge/noarch::altair-4.1.0-py_1\n",
      "  branca             conda-forge/noarch::branca-0.4.0-py_0\n",
      "  folium             conda-forge/noarch::folium-0.5.0-py_0\n",
      "  vincent            conda-forge/noarch::vincent-0.4.4-py_1\n",
      "\n",
      "The following packages will be SUPERSEDED by a higher-priority channel:\n",
      "\n",
      "  certifi                                         pkgs/main --> conda-forge\n",
      "\n",
      "\n",
      "\n",
      "Downloading and Extracting Packages\n",
      "\n",
      "altair-4.1.0         | 614 KB    |            |   0% \n",
      "altair-4.1.0         | 614 KB    | 7          |   8% \n",
      "altair-4.1.0         | 614 KB    | #####7     |  57% \n",
      "altair-4.1.0         | 614 KB    | #########1 |  91% \n",
      "altair-4.1.0         | 614 KB    | ########## | 100% \n",
      "\n",
      "branca-0.4.0         | 26 KB     |            |   0% \n",
      "branca-0.4.0         | 26 KB     | ########## | 100% \n",
      "\n",
      "vincent-0.4.4        | 28 KB     |            |   0% \n",
      "vincent-0.4.4        | 28 KB     | ########## | 100% \n",
      "\n",
      "certifi-2019.11.28   | 148 KB    |            |   0% \n",
      "certifi-2019.11.28   | 148 KB    | ########## | 100% \n",
      "\n",
      "folium-0.5.0         | 45 KB     |            |   0% \n",
      "folium-0.5.0         | 45 KB     | ########## | 100% \n",
      "Preparing transaction: ...working... done\n",
      "Verifying transaction: ...working... done\n",
      "Executing transaction: ...working... done\n",
      "Folium installed\n",
      "Libraries imported.\n"
     ]
    }
   ],
   "source": [
    "import requests # library to handle requests\n",
    "import pandas as pd # library for data analsysis\n",
    "import numpy as np # library to handle data in a vectorized manner\n",
    "import random # library for random number generation\n",
    "\n",
    "!conda install -c conda-forge geopy --yes \n",
    "from geopy.geocoders import Nominatim # module to convert an address into latitude and longitude values\n",
    "\n",
    "# libraries for displaying images\n",
    "from IPython.display import Image \n",
    "from IPython.core.display import HTML \n",
    "    \n",
    "# tranforming json file into a pandas dataframe library\n",
    "from pandas.io.json import json_normalize\n",
    "\n",
    "!conda install -c conda-forge folium=0.5.0 --yes\n",
    "import folium # plotting library\n",
    "\n",
    "print('Folium installed')\n",
    "print('Libraries imported.')"
   ]
  },
  {
   "cell_type": "code",
   "execution_count": 4,
   "metadata": {},
   "outputs": [
    {
     "name": "stdout",
     "output_type": "stream",
     "text": [
      "Your credentails:\n",
      "CLIENT_ID: GIR5OURW3VKCB0ZV3IOI0GC2RUXPEUCBY4L3OAPRBCPICXVH\n",
      "CLIENT_SECRET:13XLTXFZDSNAAADWEXUFAXX5HAJPZYJGSB0PGIF0DFDK32Y4\n"
     ]
    }
   ],
   "source": [
    "CLIENT_ID = 'GIR5OURW3VKCB0ZV3IOI0GC2RUXPEUCBY4L3OAPRBCPICXVH' # your Foursquare ID\n",
    "CLIENT_SECRET = '13XLTXFZDSNAAADWEXUFAXX5HAJPZYJGSB0PGIF0DFDK32Y4' # your Foursquare Secret\n",
    "VERSION = '20200501'\n",
    "LIMIT = 30\n",
    "print('Your credentails:')\n",
    "print('CLIENT_ID: ' + CLIENT_ID)\n",
    "print('CLIENT_SECRET:' + CLIENT_SECRET)"
   ]
  },
  {
   "cell_type": "markdown",
   "metadata": {},
   "source": [
    "Getting New York addresss "
   ]
  },
  {
   "cell_type": "code",
   "execution_count": 3,
   "metadata": {},
   "outputs": [
    {
     "name": "stdout",
     "output_type": "stream",
     "text": [
      "40.7127281 -74.0060152\n"
     ]
    }
   ],
   "source": [
    "address = 'New York, NY'\n",
    "\n",
    "geolocator = Nominatim(user_agent=\"foursquare_agent\")\n",
    "location = geolocator.geocode(address)\n",
    "latitude = location.latitude\n",
    "longitude = location.longitude\n",
    "print(latitude, longitude)"
   ]
  },
  {
   "cell_type": "code",
   "execution_count": 74,
   "metadata": {},
   "outputs": [],
   "source": [
    "url=\"https://api.foursquare.com/v2/venues/trending?near=New York, NY&client_id=GIR5OURW3VKCB0ZV3IOI0GC2RUXPEUCBY4L3OAPRBCPICXVH&client_secret=1ZD5VGHFDTY0A4F53W3C23SZB0FCLEVY5FHPTS2RU1KXM1GQ&v=20190427&radius=1000000\"\n",
    "\n",
    "    "
   ]
  },
  {
   "cell_type": "code",
   "execution_count": 75,
   "metadata": {},
   "outputs": [
    {
     "data": {
      "text/plain": [
       "{'meta': {'code': 200, 'requestId': '5eadb84e1e152c001b5a492f'},\n",
       " 'response': {'venues': [{'id': '42893400f964a52052231fe3',\n",
       "    'name': 'Prospect Park',\n",
       "    'location': {'address': 'Prospect Park W/SW',\n",
       "     'crossStreet': 'Flatbush Ave',\n",
       "     'lat': 40.66197082538004,\n",
       "     'lng': -73.97122621536255,\n",
       "     'labeledLatLngs': [{'label': 'display',\n",
       "       'lat': 40.66197082538004,\n",
       "       'lng': -73.97122621536255}],\n",
       "     'postalCode': '11215',\n",
       "     'cc': 'US',\n",
       "     'city': 'Brooklyn',\n",
       "     'state': 'NY',\n",
       "     'country': 'United States',\n",
       "     'formattedAddress': ['Prospect Park W/SW (Flatbush Ave)',\n",
       "      'Brooklyn, NY 11215',\n",
       "      'United States']},\n",
       "    'categories': [{'id': '4bf58dd8d48988d163941735',\n",
       "      'name': 'Park',\n",
       "      'pluralName': 'Parks',\n",
       "      'shortName': 'Park',\n",
       "      'icon': {'prefix': 'https://ss3.4sqi.net/img/categories_v2/parks_outdoors/park_',\n",
       "       'suffix': '.png'},\n",
       "      'primary': True}]},\n",
       "   {'id': '412d2800f964a520df0c1fe3',\n",
       "    'name': 'Central Park',\n",
       "    'location': {'address': '59th St to 110th St',\n",
       "     'crossStreet': '5th Ave to Central Park West',\n",
       "     'lat': 40.78408342593807,\n",
       "     'lng': -73.96485328674316,\n",
       "     'labeledLatLngs': [{'label': 'display',\n",
       "       'lat': 40.78408342593807,\n",
       "       'lng': -73.96485328674316}],\n",
       "     'postalCode': '10028',\n",
       "     'cc': 'US',\n",
       "     'city': 'New York',\n",
       "     'state': 'NY',\n",
       "     'country': 'United States',\n",
       "     'formattedAddress': ['59th St to 110th St (5th Ave to Central Park West)',\n",
       "      'New York, NY 10028',\n",
       "      'United States']},\n",
       "    'categories': [{'id': '4bf58dd8d48988d163941735',\n",
       "      'name': 'Park',\n",
       "      'pluralName': 'Parks',\n",
       "      'shortName': 'Park',\n",
       "      'icon': {'prefix': 'https://ss3.4sqi.net/img/categories_v2/parks_outdoors/park_',\n",
       "       'suffix': '.png'},\n",
       "      'primary': True}]},\n",
       "   {'id': '55d02141498eeb37d23e312d',\n",
       "    'name': 'Munn Chestnut Apartments',\n",
       "    'location': {'lat': 40.755664168875995,\n",
       "     'lng': -74.21102349383351,\n",
       "     'labeledLatLngs': [{'label': 'display',\n",
       "       'lat': 40.755664168875995,\n",
       "       'lng': -74.21102349383351}],\n",
       "     'cc': 'US',\n",
       "     'city': 'East Orange',\n",
       "     'state': 'NJ',\n",
       "     'country': 'United States',\n",
       "     'formattedAddress': ['East Orange, NJ', 'United States']},\n",
       "    'categories': [{'id': '4f2a210c4b9023bd5841ed28',\n",
       "      'name': 'Housing Development',\n",
       "      'pluralName': 'Housing Developments',\n",
       "      'shortName': 'Housing Development',\n",
       "      'icon': {'prefix': 'https://ss3.4sqi.net/img/categories_v2/building/housingdevelopment_',\n",
       "       'suffix': '.png'},\n",
       "      'primary': True}]},\n",
       "   {'id': '40b68100f964a5207d001fe3',\n",
       "    'name': 'Madison Square Park',\n",
       "    'location': {'address': 'Madison Ave',\n",
       "     'crossStreet': 'btwn E 23rd & E 26th St',\n",
       "     'lat': 40.74226204193276,\n",
       "     'lng': -73.98800611495972,\n",
       "     'labeledLatLngs': [{'label': 'display',\n",
       "       'lat': 40.74226204193276,\n",
       "       'lng': -73.98800611495972}],\n",
       "     'postalCode': '10010',\n",
       "     'cc': 'US',\n",
       "     'city': 'New York',\n",
       "     'state': 'NY',\n",
       "     'country': 'United States',\n",
       "     'formattedAddress': ['Madison Ave (btwn E 23rd & E 26th St)',\n",
       "      'New York, NY 10010',\n",
       "      'United States']},\n",
       "    'categories': [{'id': '4bf58dd8d48988d163941735',\n",
       "      'name': 'Park',\n",
       "      'pluralName': 'Parks',\n",
       "      'shortName': 'Park',\n",
       "      'icon': {'prefix': 'https://ss3.4sqi.net/img/categories_v2/parks_outdoors/park_',\n",
       "       'suffix': '.png'},\n",
       "      'primary': True}]}],\n",
       "  'geocode': {'what': '',\n",
       "   'where': 'new york ny',\n",
       "   'feature': {'cc': 'US',\n",
       "    'name': 'New York',\n",
       "    'displayName': 'New York, NY, United States',\n",
       "    'matchedName': 'New York, NY, United States',\n",
       "    'highlightedName': '<b>New York</b>, <b>NY</b>, United States',\n",
       "    'woeType': 7,\n",
       "    'slug': 'new-york-city-new-york',\n",
       "    'id': 'geonameid:5128581',\n",
       "    'longId': '72057594043056517',\n",
       "    'geometry': {'center': {'lat': 40.742185, 'lng': -73.992602},\n",
       "     'bounds': {'ne': {'lat': 40.882214, 'lng': -73.907},\n",
       "      'sw': {'lat': 40.679548, 'lng': -74.047285}}}},\n",
       "   'parents': []}}}"
      ]
     },
     "execution_count": 75,
     "metadata": {},
     "output_type": "execute_result"
    }
   ],
   "source": [
    "results=requests.get(url).json()\n",
    "results"
   ]
  },
  {
   "cell_type": "code",
   "execution_count": 76,
   "metadata": {},
   "outputs": [
    {
     "data": {
      "text/html": [
       "<div>\n",
       "<style scoped>\n",
       "    .dataframe tbody tr th:only-of-type {\n",
       "        vertical-align: middle;\n",
       "    }\n",
       "\n",
       "    .dataframe tbody tr th {\n",
       "        vertical-align: top;\n",
       "    }\n",
       "\n",
       "    .dataframe thead th {\n",
       "        text-align: right;\n",
       "    }\n",
       "</style>\n",
       "<table border=\"1\" class=\"dataframe\">\n",
       "  <thead>\n",
       "    <tr style=\"text-align: right;\">\n",
       "      <th></th>\n",
       "      <th>id</th>\n",
       "      <th>name</th>\n",
       "      <th>categories</th>\n",
       "      <th>location.address</th>\n",
       "      <th>location.crossStreet</th>\n",
       "      <th>location.lat</th>\n",
       "      <th>location.lng</th>\n",
       "      <th>location.labeledLatLngs</th>\n",
       "      <th>location.postalCode</th>\n",
       "      <th>location.cc</th>\n",
       "      <th>location.city</th>\n",
       "      <th>location.state</th>\n",
       "      <th>location.country</th>\n",
       "      <th>location.formattedAddress</th>\n",
       "    </tr>\n",
       "  </thead>\n",
       "  <tbody>\n",
       "    <tr>\n",
       "      <th>0</th>\n",
       "      <td>42893400f964a52052231fe3</td>\n",
       "      <td>Prospect Park</td>\n",
       "      <td>[{'id': '4bf58dd8d48988d163941735', 'name': 'P...</td>\n",
       "      <td>Prospect Park W/SW</td>\n",
       "      <td>Flatbush Ave</td>\n",
       "      <td>40.661971</td>\n",
       "      <td>-73.971226</td>\n",
       "      <td>[{'label': 'display', 'lat': 40.66197082538004...</td>\n",
       "      <td>11215</td>\n",
       "      <td>US</td>\n",
       "      <td>Brooklyn</td>\n",
       "      <td>NY</td>\n",
       "      <td>United States</td>\n",
       "      <td>[Prospect Park W/SW (Flatbush Ave), Brooklyn, ...</td>\n",
       "    </tr>\n",
       "    <tr>\n",
       "      <th>1</th>\n",
       "      <td>412d2800f964a520df0c1fe3</td>\n",
       "      <td>Central Park</td>\n",
       "      <td>[{'id': '4bf58dd8d48988d163941735', 'name': 'P...</td>\n",
       "      <td>59th St to 110th St</td>\n",
       "      <td>5th Ave to Central Park West</td>\n",
       "      <td>40.784083</td>\n",
       "      <td>-73.964853</td>\n",
       "      <td>[{'label': 'display', 'lat': 40.78408342593807...</td>\n",
       "      <td>10028</td>\n",
       "      <td>US</td>\n",
       "      <td>New York</td>\n",
       "      <td>NY</td>\n",
       "      <td>United States</td>\n",
       "      <td>[59th St to 110th St (5th Ave to Central Park ...</td>\n",
       "    </tr>\n",
       "    <tr>\n",
       "      <th>2</th>\n",
       "      <td>55d02141498eeb37d23e312d</td>\n",
       "      <td>Munn Chestnut Apartments</td>\n",
       "      <td>[{'id': '4f2a210c4b9023bd5841ed28', 'name': 'H...</td>\n",
       "      <td>NaN</td>\n",
       "      <td>NaN</td>\n",
       "      <td>40.755664</td>\n",
       "      <td>-74.211023</td>\n",
       "      <td>[{'label': 'display', 'lat': 40.75566416887599...</td>\n",
       "      <td>NaN</td>\n",
       "      <td>US</td>\n",
       "      <td>East Orange</td>\n",
       "      <td>NJ</td>\n",
       "      <td>United States</td>\n",
       "      <td>[East Orange, NJ, United States]</td>\n",
       "    </tr>\n",
       "    <tr>\n",
       "      <th>3</th>\n",
       "      <td>40b68100f964a5207d001fe3</td>\n",
       "      <td>Madison Square Park</td>\n",
       "      <td>[{'id': '4bf58dd8d48988d163941735', 'name': 'P...</td>\n",
       "      <td>Madison Ave</td>\n",
       "      <td>btwn E 23rd &amp; E 26th St</td>\n",
       "      <td>40.742262</td>\n",
       "      <td>-73.988006</td>\n",
       "      <td>[{'label': 'display', 'lat': 40.74226204193276...</td>\n",
       "      <td>10010</td>\n",
       "      <td>US</td>\n",
       "      <td>New York</td>\n",
       "      <td>NY</td>\n",
       "      <td>United States</td>\n",
       "      <td>[Madison Ave (btwn E 23rd &amp; E 26th St), New Yo...</td>\n",
       "    </tr>\n",
       "  </tbody>\n",
       "</table>\n",
       "</div>"
      ],
      "text/plain": [
       "                         id                      name  \\\n",
       "0  42893400f964a52052231fe3             Prospect Park   \n",
       "1  412d2800f964a520df0c1fe3              Central Park   \n",
       "2  55d02141498eeb37d23e312d  Munn Chestnut Apartments   \n",
       "3  40b68100f964a5207d001fe3       Madison Square Park   \n",
       "\n",
       "                                          categories     location.address  \\\n",
       "0  [{'id': '4bf58dd8d48988d163941735', 'name': 'P...   Prospect Park W/SW   \n",
       "1  [{'id': '4bf58dd8d48988d163941735', 'name': 'P...  59th St to 110th St   \n",
       "2  [{'id': '4f2a210c4b9023bd5841ed28', 'name': 'H...                  NaN   \n",
       "3  [{'id': '4bf58dd8d48988d163941735', 'name': 'P...          Madison Ave   \n",
       "\n",
       "           location.crossStreet  location.lat  location.lng  \\\n",
       "0                  Flatbush Ave     40.661971    -73.971226   \n",
       "1  5th Ave to Central Park West     40.784083    -73.964853   \n",
       "2                           NaN     40.755664    -74.211023   \n",
       "3       btwn E 23rd & E 26th St     40.742262    -73.988006   \n",
       "\n",
       "                             location.labeledLatLngs location.postalCode  \\\n",
       "0  [{'label': 'display', 'lat': 40.66197082538004...               11215   \n",
       "1  [{'label': 'display', 'lat': 40.78408342593807...               10028   \n",
       "2  [{'label': 'display', 'lat': 40.75566416887599...                 NaN   \n",
       "3  [{'label': 'display', 'lat': 40.74226204193276...               10010   \n",
       "\n",
       "  location.cc location.city location.state location.country  \\\n",
       "0          US      Brooklyn             NY    United States   \n",
       "1          US      New York             NY    United States   \n",
       "2          US   East Orange             NJ    United States   \n",
       "3          US      New York             NY    United States   \n",
       "\n",
       "                           location.formattedAddress  \n",
       "0  [Prospect Park W/SW (Flatbush Ave), Brooklyn, ...  \n",
       "1  [59th St to 110th St (5th Ave to Central Park ...  \n",
       "2                   [East Orange, NJ, United States]  \n",
       "3  [Madison Ave (btwn E 23rd & E 26th St), New Yo...  "
      ]
     },
     "execution_count": 76,
     "metadata": {},
     "output_type": "execute_result"
    }
   ],
   "source": [
    "venues = results['response']['venues']\n",
    "dataframe = pd.json_normalize(venues)\n",
    "dataframe.head()"
   ]
  },
  {
   "cell_type": "code",
   "execution_count": 77,
   "metadata": {},
   "outputs": [
    {
     "data": {
      "text/plain": [
       "0               Prospect Park\n",
       "1                Central Park\n",
       "2    Munn Chestnut Apartments\n",
       "3         Madison Square Park\n",
       "Name: name, dtype: object"
      ]
     },
     "execution_count": 77,
     "metadata": {},
     "output_type": "execute_result"
    }
   ],
   "source": [
    "dataframe.name"
   ]
  },
  {
   "cell_type": "code",
   "execution_count": 129,
   "metadata": {},
   "outputs": [],
   "source": [
    "venues_map = folium.Map(location=[latitude, longitude], zoom_start=10)"
   ]
  },
  {
   "cell_type": "code",
   "execution_count": 131,
   "metadata": {},
   "outputs": [
    {
     "data": {
      "text/html": [
       "<div style=\"width:100%;\"><div style=\"position:relative;width:100%;height:0;padding-bottom:60%;\"><iframe src=\"about:blank\" style=\"position:absolute;width:100%;height:100%;left:0;top:0;border:none !important;\" data-html=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 onload=\"this.contentDocument.open();this.contentDocument.write(atob(this.getAttribute('data-html')));this.contentDocument.close();\" allowfullscreen webkitallowfullscreen mozallowfullscreen></iframe></div></div>"
      ],
      "text/plain": [
       "<folium.folium.Map at 0x2383b5aa948>"
      ]
     },
     "execution_count": 131,
     "metadata": {},
     "output_type": "execute_result"
    }
   ],
   "source": [
    "venues_map"
   ]
  },
  {
   "cell_type": "code",
   "execution_count": 133,
   "metadata": {},
   "outputs": [
    {
     "name": "stdout",
     "output_type": "stream",
     "text": [
      "The following areas are a high risk of contracting the Corona Virus\n"
     ]
    },
    {
     "data": {
      "text/plain": [
       "0               Prospect Park\n",
       "1                Central Park\n",
       "2    Munn Chestnut Apartments\n",
       "3         Madison Square Park\n",
       "Name: name, dtype: object"
      ]
     },
     "execution_count": 133,
     "metadata": {},
     "output_type": "execute_result"
    }
   ],
   "source": [
    "print(\"The following areas are a high risk of contracting the Corona Virus\")\n",
    "+dataframe.name\n"
   ]
  },
  {
   "cell_type": "code",
   "execution_count": null,
   "metadata": {},
   "outputs": [],
   "source": []
  },
  {
   "cell_type": "code",
   "execution_count": 132,
   "metadata": {},
   "outputs": [
    {
     "data": {
      "text/html": [
       "<div style=\"width:100%;\"><div style=\"position:relative;width:100%;height:0;padding-bottom:60%;\"><iframe src=\"about:blank\" style=\"position:absolute;width:100%;height:100%;left:0;top:0;border:none !important;\" data-html=PCFET0NUWVBFIGh0bWw+CjxoZWFkPiAgICAKICAgIDxtZXRhIGh0dHAtZXF1aXY9ImNvbnRlbnQtdHlwZSIgY29udGVudD0idGV4dC9odG1sOyBjaGFyc2V0PVVURi04IiAvPgogICAgPHNjcmlwdD5MX1BSRUZFUl9DQU5WQVMgPSBmYWxzZTsgTF9OT19UT1VDSCA9IGZhbHNlOyBMX0RJU0FCTEVfM0QgPSBmYWxzZTs8L3NjcmlwdD4KICAgIDxzY3JpcHQgc3JjPSJodHRwczovL2Nkbi5qc2RlbGl2ci5uZXQvbnBtL2xlYWZsZXRAMS4yLjAvZGlzdC9sZWFmbGV0LmpzIj48L3NjcmlwdD4KICAgIDxzY3JpcHQgc3JjPSJodHRwczovL2FqYXguZ29vZ2xlYXBpcy5jb20vYWpheC9saWJzL2pxdWVyeS8xLjExLjEvanF1ZXJ5Lm1pbi5qcyI+PC9zY3JpcHQ+CiAgICA8c2NyaXB0IHNyYz0iaHR0cHM6Ly9tYXhjZG4uYm9vdHN0cmFwY2RuLmNvbS9ib290c3RyYXAvMy4yLjAvanMvYm9vdHN0cmFwLm1pbi5qcyI+PC9zY3JpcHQ+CiAgICA8c2NyaXB0IHNyYz0iaHR0cHM6Ly9jZG5qcy5jbG91ZGZsYXJlLmNvbS9hamF4L2xpYnMvTGVhZmxldC5hd2Vzb21lLW1hcmtlcnMvMi4wLjIvbGVhZmxldC5hd2Vzb21lLW1hcmtlcnMuanMiPjwvc2NyaXB0PgogICAgPGxpbmsgcmVsPSJzdHlsZXNoZWV0IiBocmVmPSJodHRwczovL2Nkbi5qc2RlbGl2ci5uZXQvbnBtL2xlYWZsZXRAMS4yLjAvZGlzdC9sZWFmbGV0LmNzcyIvPgogICAgPGxpbmsgcmVsPSJzdHlsZXNoZWV0IiBocmVmPSJodHRwczovL21heGNkbi5ib290c3RyYXBjZG4uY29tL2Jvb3RzdHJhcC8zLjIuMC9jc3MvYm9vdHN0cmFwLm1pbi5jc3MiLz4KICAgIDxsaW5rIHJlbD0ic3R5bGVzaGVldCIgaHJlZj0iaHR0cHM6Ly9tYXhjZG4uYm9vdHN0cmFwY2RuLmNvbS9ib290c3RyYXAvMy4yLjAvY3NzL2Jvb3RzdHJhcC10aGVtZS5taW4uY3NzIi8+CiAgICA8bGluayByZWw9InN0eWxlc2hlZXQiIGhyZWY9Imh0dHBzOi8vbWF4Y2RuLmJvb3RzdHJhcGNkbi5jb20vZm9udC1hd2Vzb21lLzQuNi4zL2Nzcy9mb250LWF3ZXNvbWUubWluLmNzcyIvPgogICAgPGxpbmsgcmVsPSJzdHlsZXNoZWV0IiBocmVmPSJodHRwczovL2NkbmpzLmNsb3VkZmxhcmUuY29tL2FqYXgvbGlicy9MZWFmbGV0LmF3ZXNvbWUtbWFya2Vycy8yLjAuMi9sZWFmbGV0LmF3ZXNvbWUtbWFya2Vycy5jc3MiLz4KICAgIDxsaW5rIHJlbD0ic3R5bGVzaGVldCIgaHJlZj0iaHR0cHM6Ly9yYXdnaXQuY29tL3B5dGhvbi12aXN1YWxpemF0aW9uL2ZvbGl1bS9tYXN0ZXIvZm9saXVtL3RlbXBsYXRlcy9sZWFmbGV0LmF3ZXNvbWUucm90YXRlLmNzcyIvPgogICAgPHN0eWxlPmh0bWwsIGJvZHkge3dpZHRoOiAxMDAlO2hlaWdodDogMTAwJTttYXJnaW46IDA7cGFkZGluZzogMDt9PC9zdHlsZT4KICAgIDxzdHlsZT4jbWFwIHtwb3NpdGlvbjphYnNvbHV0ZTt0b3A6MDtib3R0b206MDtyaWdodDowO2xlZnQ6MDt9PC9zdHlsZT4KICAgIAogICAgICAgICAgICA8c3R5bGU+ICNtYXBfZjRjNGZkNGUyMjBjNDE1MWFhNmU4NzY0Mjc1MjVmMjYgewogICAgICAgICAgICAgICAgcG9zaXRpb24gOiByZWxhdGl2ZTsKICAgICAgICAgICAgICAgIHdpZHRoIDogMTAwLjAlOwogICAgICAgICAgICAgICAgaGVpZ2h0OiAxMDAuMCU7CiAgICAgICAgICAgICAgICBsZWZ0OiAwLjAlOwogICAgICAgICAgICAgICAgdG9wOiAwLjAlOwogICAgICAgICAgICAgICAgfQogICAgICAgICAgICA8L3N0eWxlPgogICAgICAgIAo8L2hlYWQ+Cjxib2R5PiAgICAKICAgIAogICAgICAgICAgICA8ZGl2IGNsYXNzPSJmb2xpdW0tbWFwIiBpZD0ibWFwX2Y0YzRmZDRlMjIwYzQxNTFhYTZlODc2NDI3NTI1ZjI2IiA+PC9kaXY+CiAgICAgICAgCjwvYm9keT4KPHNjcmlwdD4gICAgCiAgICAKCiAgICAgICAgICAgIAogICAgICAgICAgICAgICAgdmFyIGJvdW5kcyA9IG51bGw7CiAgICAgICAgICAgIAoKICAgICAgICAgICAgdmFyIG1hcF9mNGM0ZmQ0ZTIyMGM0MTUxYWE2ZTg3NjQyNzUyNWYyNiA9IEwubWFwKAogICAgICAgICAgICAgICAgICAgICAgICAgICAgICAgICAgJ21hcF9mNGM0ZmQ0ZTIyMGM0MTUxYWE2ZTg3NjQyNzUyNWYyNicsCiAgICAgICAgICAgICAgICAgICAgICAgICAgICAgICAgICB7Y2VudGVyOiBbNDAuNzEyNzI4MSwtNzQuMDA2MDE1Ml0sCiAgICAgICAgICAgICAgICAgICAgICAgICAgICAgICAgICB6b29tOiAxMCwKICAgICAgICAgICAgICAgICAgICAgICAgICAgICAgICAgIG1heEJvdW5kczogYm91bmRzLAogICAgICAgICAgICAgICAgICAgICAgICAgICAgICAgICAgbGF5ZXJzOiBbXSwKICAgICAgICAgICAgICAgICAgICAgICAgICAgICAgICAgIHdvcmxkQ29weUp1bXA6IGZhbHNlLAogICAgICAgICAgICAgICAgICAgICAgICAgICAgICAgICAgY3JzOiBMLkNSUy5FUFNHMzg1NwogICAgICAgICAgICAgICAgICAgICAgICAgICAgICAgICB9KTsKICAgICAgICAgICAgCiAgICAgICAgCiAgICAKICAgICAgICAgICAgdmFyIHRpbGVfbGF5ZXJfZTljMGE3Mzg3ODBjNDMzMmJhYjJkZGYxOGE5ZDJiMTggPSBMLnRpbGVMYXllcigKICAgICAgICAgICAgICAgICdodHRwczovL3tzfS50aWxlLm9wZW5zdHJlZXRtYXAub3JnL3t6fS97eH0ve3l9LnBuZycsCiAgICAgICAgICAgICAgICB7CiAgImF0dHJpYnV0aW9uIjogbnVsbCwKICAiZGV0ZWN0UmV0aW5hIjogZmFsc2UsCiAgIm1heFpvb20iOiAxOCwKICAibWluWm9vbSI6IDEsCiAgIm5vV3JhcCI6IGZhbHNlLAogICJzdWJkb21haW5zIjogImFiYyIKfQogICAgICAgICAgICAgICAgKS5hZGRUbyhtYXBfZjRjNGZkNGUyMjBjNDE1MWFhNmU4NzY0Mjc1MjVmMjYpOwogICAgICAgIAogICAgCiAgICAgICAgICAgIHZhciBjaXJjbGVfbWFya2VyX2I4NzVkMzQ2YTc1ZTQ4Y2M5M2RhMDkyZGY0OTIwMWI1ID0gTC5jaXJjbGVNYXJrZXIoCiAgICAgICAgICAgICAgICBbNDAuNjYxOTcxLC03My45NzEyMjZdLAogICAgICAgICAgICAgICAgewogICJidWJibGluZ01vdXNlRXZlbnRzIjogdHJ1ZSwKICAiY29sb3IiOiAicmVkIiwKICAiZGFzaEFycmF5IjogbnVsbCwKICAiZGFzaE9mZnNldCI6IG51bGwsCiAgImZpbGwiOiB0cnVlLAogICJmaWxsQ29sb3IiOiAicmVkIiwKICAiZmlsbE9wYWNpdHkiOiAwLjYsCiAgImZpbGxSdWxlIjogImV2ZW5vZGQiLAogICJsaW5lQ2FwIjogInJvdW5kIiwKICAibGluZUpvaW4iOiAicm91bmQiLAogICJvcGFjaXR5IjogMS4wLAogICJyYWRpdXMiOiAxMCwKICAic3Ryb2tlIjogdHJ1ZSwKICAid2VpZ2h0IjogMwp9CiAgICAgICAgICAgICAgICApLmFkZFRvKG1hcF9mNGM0ZmQ0ZTIyMGM0MTUxYWE2ZTg3NjQyNzUyNWYyNik7CiAgICAgICAgICAgIAogICAgCiAgICAgICAgICAgIHZhciBwb3B1cF9lODg2N2QzMmU1ZmY0MDZiOTUzZDBjZTI2YzEzOTdlMiA9IEwucG9wdXAoe21heFdpZHRoOiAnMzAwJ30pOwoKICAgICAgICAgICAgCiAgICAgICAgICAgICAgICB2YXIgaHRtbF9iM2VjMGQwNjVmZGY0OGU4YjUwYmQ2ODU4ZWFlOTFkNyA9ICQoJzxkaXYgaWQ9Imh0bWxfYjNlYzBkMDY1ZmRmNDhlOGI1MGJkNjg1OGVhZTkxZDciIHN0eWxlPSJ3aWR0aDogMTAwLjAlOyBoZWlnaHQ6IDEwMC4wJTsiPlByb3NwZWN0IFBhcms8L2Rpdj4nKVswXTsKICAgICAgICAgICAgICAgIHBvcHVwX2U4ODY3ZDMyZTVmZjQwNmI5NTNkMGNlMjZjMTM5N2UyLnNldENvbnRlbnQoaHRtbF9iM2VjMGQwNjVmZGY0OGU4YjUwYmQ2ODU4ZWFlOTFkNyk7CiAgICAgICAgICAgIAoKICAgICAgICAgICAgY2lyY2xlX21hcmtlcl9iODc1ZDM0NmE3NWU0OGNjOTNkYTA5MmRmNDkyMDFiNS5iaW5kUG9wdXAocG9wdXBfZTg4NjdkMzJlNWZmNDA2Yjk1M2QwY2UyNmMxMzk3ZTIpOwoKICAgICAgICAgICAgCiAgICAgICAgCiAgICAKICAgICAgICAgICAgdmFyIGNpcmNsZV9tYXJrZXJfNmRjMDRlNTU3MDcyNGZkNjk5MGEwZjhkNDY4YzM1ZWYgPSBMLmNpcmNsZU1hcmtlcigKICAgICAgICAgICAgICAgIFs0MC43ODQwODMxLC03My45NjQ4NTNdLAogICAgICAgICAgICAgICAgewogICJidWJibGluZ01vdXNlRXZlbnRzIjogdHJ1ZSwKICAiY29sb3IiOiAicmVkIiwKICAiZGFzaEFycmF5IjogbnVsbCwKICAiZGFzaE9mZnNldCI6IG51bGwsCiAgImZpbGwiOiB0cnVlLAogICJmaWxsQ29sb3IiOiAicmVkIiwKICAiZmlsbE9wYWNpdHkiOiAwLjYsCiAgImZpbGxSdWxlIjogImV2ZW5vZGQiLAogICJsaW5lQ2FwIjogInJvdW5kIiwKICAibGluZUpvaW4iOiAicm91bmQiLAogICJvcGFjaXR5IjogMS4wLAogICJyYWRpdXMiOiAxMCwKICAic3Ryb2tlIjogdHJ1ZSwKICAid2VpZ2h0IjogMwp9CiAgICAgICAgICAgICAgICApLmFkZFRvKG1hcF9mNGM0ZmQ0ZTIyMGM0MTUxYWE2ZTg3NjQyNzUyNWYyNik7CiAgICAgICAgICAgIAogICAgCiAgICAgICAgICAgIHZhciBwb3B1cF9lNjEzYzkzNDE2ZDU0YmE1OWNiM2Y3Y2Y4ZjI2NjAyYSA9IEwucG9wdXAoe21heFdpZHRoOiAnMzAwJ30pOwoKICAgICAgICAgICAgCiAgICAgICAgICAgICAgICB2YXIgaHRtbF83YTMyNjljMjBmOWM0ZDMwYmZiNzNkN2EyNzE5YjBmMyA9ICQoJzxkaXYgaWQ9Imh0bWxfN2EzMjY5YzIwZjljNGQzMGJmYjczZDdhMjcxOWIwZjMiIHN0eWxlPSJ3aWR0aDogMTAwLjAlOyBoZWlnaHQ6IDEwMC4wJTsiPkNlbnRyYWwgUGFyazwvZGl2PicpWzBdOwogICAgICAgICAgICAgICAgcG9wdXBfZTYxM2M5MzQxNmQ1NGJhNTljYjNmN2NmOGYyNjYwMmEuc2V0Q29udGVudChodG1sXzdhMzI2OWMyMGY5YzRkMzBiZmI3M2Q3YTI3MTliMGYzKTsKICAgICAgICAgICAgCgogICAgICAgICAgICBjaXJjbGVfbWFya2VyXzZkYzA0ZTU1NzA3MjRmZDY5OTBhMGY4ZDQ2OGMzNWVmLmJpbmRQb3B1cChwb3B1cF9lNjEzYzkzNDE2ZDU0YmE1OWNiM2Y3Y2Y4ZjI2NjAyYSk7CgogICAgICAgICAgICAKICAgICAgICAKICAgIAogICAgICAgICAgICB2YXIgY2lyY2xlX21hcmtlcl8wODI1Y2ZhYjJlNjI0MWRmOTg0OTU0OWE1NjU5NTkwNCA9IEwuY2lyY2xlTWFya2VyKAogICAgICAgICAgICAgICAgWzQwLjc1NTY2NCwtNzQuMjExMDIzXSwKICAgICAgICAgICAgICAgIHsKICAiYnViYmxpbmdNb3VzZUV2ZW50cyI6IHRydWUsCiAgImNvbG9yIjogInJlZCIsCiAgImRhc2hBcnJheSI6IG51bGwsCiAgImRhc2hPZmZzZXQiOiBudWxsLAogICJmaWxsIjogdHJ1ZSwKICAiZmlsbENvbG9yIjogInJlZCIsCiAgImZpbGxPcGFjaXR5IjogMC42LAogICJmaWxsUnVsZSI6ICJldmVub2RkIiwKICAibGluZUNhcCI6ICJyb3VuZCIsCiAgImxpbmVKb2luIjogInJvdW5kIiwKICAib3BhY2l0eSI6IDEuMCwKICAicmFkaXVzIjogMTAsCiAgInN0cm9rZSI6IHRydWUsCiAgIndlaWdodCI6IDMKfQogICAgICAgICAgICAgICAgKS5hZGRUbyhtYXBfZjRjNGZkNGUyMjBjNDE1MWFhNmU4NzY0Mjc1MjVmMjYpOwogICAgICAgICAgICAKICAgIAogICAgICAgICAgICB2YXIgcG9wdXBfNGU5Y2NhMTkyYzY4NGE3YjkxZjRjYWVlMmIyMDk5NzMgPSBMLnBvcHVwKHttYXhXaWR0aDogJzMwMCd9KTsKCiAgICAgICAgICAgIAogICAgICAgICAgICAgICAgdmFyIGh0bWxfNTk1NjFmN2QwOTI1NDk3NWI3YWNiNjAxZTg2YWUxZGEgPSAkKCc8ZGl2IGlkPSJodG1sXzU5NTYxZjdkMDkyNTQ5NzViN2FjYjYwMWU4NmFlMWRhIiBzdHlsZT0id2lkdGg6IDEwMC4wJTsgaGVpZ2h0OiAxMDAuMCU7Ij5NdW5uIENoZXN0bnV0IEFwYXJ0bWVudHM8L2Rpdj4nKVswXTsKICAgICAgICAgICAgICAgIHBvcHVwXzRlOWNjYTE5MmM2ODRhN2I5MWY0Y2FlZTJiMjA5OTczLnNldENvbnRlbnQoaHRtbF81OTU2MWY3ZDA5MjU0OTc1YjdhY2I2MDFlODZhZTFkYSk7CiAgICAgICAgICAgIAoKICAgICAgICAgICAgY2lyY2xlX21hcmtlcl8wODI1Y2ZhYjJlNjI0MWRmOTg0OTU0OWE1NjU5NTkwNC5iaW5kUG9wdXAocG9wdXBfNGU5Y2NhMTkyYzY4NGE3YjkxZjRjYWVlMmIyMDk5NzMpOwoKICAgICAgICAgICAgCiAgICAgICAgCiAgICAKICAgICAgICAgICAgdmFyIGNpcmNsZV9tYXJrZXJfYjA3NDJjMzdhZGM0NDRlM2EyMjIxNjU3ZTA0NjkxNDQgPSBMLmNpcmNsZU1hcmtlcigKICAgICAgICAgICAgICAgIFs0MC43NDIyNjIsLTczLjk4ODAwNl0sCiAgICAgICAgICAgICAgICB7CiAgImJ1YmJsaW5nTW91c2VFdmVudHMiOiB0cnVlLAogICJjb2xvciI6ICJyZWQiLAogICJkYXNoQXJyYXkiOiBudWxsLAogICJkYXNoT2Zmc2V0IjogbnVsbCwKICAiZmlsbCI6IHRydWUsCiAgImZpbGxDb2xvciI6ICJyZWQiLAogICJmaWxsT3BhY2l0eSI6IDAuNiwKICAiZmlsbFJ1bGUiOiAiZXZlbm9kZCIsCiAgImxpbmVDYXAiOiAicm91bmQiLAogICJsaW5lSm9pbiI6ICJyb3VuZCIsCiAgIm9wYWNpdHkiOiAxLjAsCiAgInJhZGl1cyI6IDEwLAogICJzdHJva2UiOiB0cnVlLAogICJ3ZWlnaHQiOiAzCn0KICAgICAgICAgICAgICAgICkuYWRkVG8obWFwX2Y0YzRmZDRlMjIwYzQxNTFhYTZlODc2NDI3NTI1ZjI2KTsKICAgICAgICAgICAgCiAgICAKICAgICAgICAgICAgdmFyIHBvcHVwXzdkZjI1M2ViNmQwMjQyYzJiZjk1NmFhMWNkZGYzZjdlID0gTC5wb3B1cCh7bWF4V2lkdGg6ICczMDAnfSk7CgogICAgICAgICAgICAKICAgICAgICAgICAgICAgIHZhciBodG1sXzZmYTQzMDM0MGQyZDQwMGQ5ODFlNDJkMzBjMDc1NGI3ID0gJCgnPGRpdiBpZD0iaHRtbF82ZmE0MzAzNDBkMmQ0MDBkOTgxZTQyZDMwYzA3NTRiNyIgc3R5bGU9IndpZHRoOiAxMDAuMCU7IGhlaWdodDogMTAwLjAlOyI+Q2VudHJhbCBQYXJrPC9kaXY+JylbMF07CiAgICAgICAgICAgICAgICBwb3B1cF83ZGYyNTNlYjZkMDI0MmMyYmY5NTZhYTFjZGRmM2Y3ZS5zZXRDb250ZW50KGh0bWxfNmZhNDMwMzQwZDJkNDAwZDk4MWU0MmQzMGMwNzU0YjcpOwogICAgICAgICAgICAKCiAgICAgICAgICAgIGNpcmNsZV9tYXJrZXJfYjA3NDJjMzdhZGM0NDRlM2EyMjIxNjU3ZTA0NjkxNDQuYmluZFBvcHVwKHBvcHVwXzdkZjI1M2ViNmQwMjQyYzJiZjk1NmFhMWNkZGYzZjdlKTsKCiAgICAgICAgICAgIAogICAgICAgIAo8L3NjcmlwdD4= onload=\"this.contentDocument.open();this.contentDocument.write(atob(this.getAttribute('data-html')));this.contentDocument.close();\" allowfullscreen webkitallowfullscreen mozallowfullscreen></iframe></div></div>"
      ],
      "text/plain": [
       "<folium.folium.Map at 0x2383b5aa948>"
      ]
     },
     "execution_count": 132,
     "metadata": {},
     "output_type": "execute_result"
    }
   ],
   "source": [
    "# add a red circle marker to represent the Conrad Hotel\n",
    "folium.features.CircleMarker(\n",
    "    [40.661971, -73.971226],\n",
    "    radius=10,\n",
    "    color='red',\n",
    "    popup='Prospect Park',\n",
    "    fill = True,\n",
    "    fill_color = 'red',\n",
    "    fill_opacity = 0.6\n",
    ").add_to(venues_map)\n",
    "folium.features.CircleMarker(\n",
    "    [40.7840831, -73.964853],\n",
    "    radius=10,\n",
    "    color='red',\n",
    "    popup='Central Park',\n",
    "    fill = True,\n",
    "    fill_color = 'red',\n",
    "    fill_opacity = 0.6\n",
    ").add_to(venues_map)\n",
    "folium.features.CircleMarker(\n",
    "    [40.755664, -74.211023],\n",
    "    radius=10,\n",
    "    color='red',\n",
    "    popup='Munn Chestnut Apartments',\n",
    "    fill = True,\n",
    "    fill_color = 'red',\n",
    "    fill_opacity = 0.6\n",
    ").add_to(venues_map)\n",
    "folium.features.CircleMarker(\n",
    "    [40.742262, -73.988006],\n",
    "    radius=10,\n",
    "    color='red',\n",
    "    popup='Central Park',\n",
    "    fill = True,\n",
    "    fill_color = 'red',\n",
    "    fill_opacity = 0.6\n",
    ").add_to(venues_map)\n",
    "\n",
    "# display map\n",
    "venues_map"
   ]
  },
  {
   "cell_type": "code",
   "execution_count": null,
   "metadata": {},
   "outputs": [],
   "source": []
  }
 ],
 "metadata": {
  "kernelspec": {
   "display_name": "Python 3",
   "language": "python",
   "name": "python3"
  },
  "language_info": {
   "codemirror_mode": {
    "name": "ipython",
    "version": 3
   },
   "file_extension": ".py",
   "mimetype": "text/x-python",
   "name": "python",
   "nbconvert_exporter": "python",
   "pygments_lexer": "ipython3",
   "version": "3.7.6"
  }
 },
 "nbformat": 4,
 "nbformat_minor": 4
}
